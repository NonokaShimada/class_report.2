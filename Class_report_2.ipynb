{
  "nbformat": 4,
  "nbformat_minor": 0,
  "metadata": {
    "colab": {
      "provenance": [],
      "include_colab_link": true
    },
    "kernelspec": {
      "name": "python3",
      "display_name": "Python 3"
    },
    "language_info": {
      "name": "python"
    }
  },
  "cells": [
    {
      "cell_type": "markdown",
      "metadata": {
        "id": "view-in-github",
        "colab_type": "text"
      },
      "source": [
        "<a href=\"https://colab.research.google.com/github/NonokaShimada/class_report.2/blob/main/Class_report_2.ipynb\" target=\"_parent\"><img src=\"https://colab.research.google.com/assets/colab-badge.svg\" alt=\"Open In Colab\"/></a>"
      ]
    },
    {
      "cell_type": "code",
      "execution_count": null,
      "metadata": {
        "id": "4BiwD9c3_zJV"
      },
      "outputs": [],
      "source": [
        "Execise 2 \n",
        "name = [ 'Moe Umezaki' 'Nonoka Shimada' 'Millymarion Tani']"
      ]
    },
    {
      "cell_type": "code",
      "source": [
        "from pandas.io.formats.style import Subset\n",
        "print('Exesice 1.2')\n",
        "import pandas as pd\n",
        "d1 = {'c1' : [20, 21, 22, 25]}\n",
        "d2 = {'c2' : [20, 21, 22, 25, 27, 28]}\n",
        "df1= pd.DataFrame(data=d1)\n",
        "df2= pd.DataFrame(data=d2)\n",
        "print('c1 is subset of c2:')\n",
        "print(df1)\n",
        "print(df2)\n",
        "print(type(df1))\n",
        "df1[\"c1\"].to_list()\n",
        "set(\"df1\") <= set(\"df2\")\n"
      ],
      "metadata": {
        "id": "AlPKIk3mAL5R",
        "outputId": "f7fa3350-b687-49ee-e916-05ca158345fc",
        "colab": {
          "base_uri": "https://localhost:8080/"
        }
      },
      "execution_count": null,
      "outputs": [
        {
          "output_type": "stream",
          "name": "stdout",
          "text": [
            "Exesice 1.2\n",
            "c1 is subset of c2:\n",
            "   c1\n",
            "0  20\n",
            "1  21\n",
            "2  22\n",
            "3  25\n",
            "   c2\n",
            "0  20\n",
            "1  21\n",
            "2  22\n",
            "3  25\n",
            "4  27\n",
            "5  28\n",
            "<class 'pandas.core.frame.DataFrame'>\n"
          ]
        },
        {
          "output_type": "execute_result",
          "data": {
            "text/plain": [
              "False"
            ]
          },
          "metadata": {},
          "execution_count": 7
        }
      ]
    },
    {
      "cell_type": "code",
      "source": [
        "import pandas as pd\n",
        "d1 = {1, 2, 3}\n",
        "d2 = {1, 2, 3, 4, 5}\n",
        "print('ex.2 sample')\n",
        "print(d1.issubset(d2))\n",
        "print()\n",
        "set(d1) <= set(d2)\n"
      ],
      "metadata": {
        "colab": {
          "base_uri": "https://localhost:8080/"
        },
        "id": "Z5E2_LD3E3pz",
        "outputId": "9d66216e-ce12-4392-e379-c592ce1ee625"
      },
      "execution_count": null,
      "outputs": [
        {
          "output_type": "stream",
          "name": "stdout",
          "text": [
            "ex.2 sample\n",
            "True\n",
            "\n"
          ]
        },
        {
          "output_type": "execute_result",
          "data": {
            "text/plain": [
              "True"
            ]
          },
          "metadata": {},
          "execution_count": 103
        }
      ]
    },
    {
      "cell_type": "code",
      "source": [
        "print('Exesice 3')\n",
        "import pandas as pd;\n",
        "d1 = {'code':['a', 'b', 'c', 'd'],\n",
        "      'fruits':['apple', 'orange', 'lemon', 'melon']}\n",
        "d2 = {'code':['a', 'b', 'c', 'd'],\n",
        "      'color': ['red', 'orange', 'yellow', 'green'] }\n",
        "df1 = pd.DataFrame(data=d1)\n",
        "df2 = pd.DataFrame(data=d2)\n",
        "df3 = pd.merge(df1, df2, on='code', how='inner')\n",
        "print(df1)\n",
        "print(df2)\n",
        "print(df3)"
      ],
      "metadata": {
        "id": "9vUe18PWJzWc"
      },
      "execution_count": null,
      "outputs": []
    },
    {
      "cell_type": "code",
      "source": [
        "import pandas as pd\n",
        "import math \n",
        "print('exesice 4')\n",
        "d1 = {'c1':[0, 5, 4, 8, 8 ],\n",
        "      'c2':[1, 3, 5, 7, 9 ]}\n",
        "df1 = pd.DataFrame(data=d1)\n",
        "print(df1)\n",
        "d2 = {'c3': [c1 + c2] }\n",
        "df2 = pd.DataFrame(data=d2)\n",
        "print(df2)"
      ],
      "metadata": {
        "colab": {
          "base_uri": "https://localhost:8080/"
        },
        "id": "oBkB6T_wqoNg",
        "outputId": "caa1b0f3-6ab1-483c-fd96-bcbe1cd6664c"
      },
      "execution_count": null,
      "outputs": [
        {
          "output_type": "stream",
          "name": "stdout",
          "text": [
            "exesice 4\n",
            "   c1  c2\n",
            "0   0   1\n",
            "1   5   3\n",
            "2   4   5\n",
            "3   8   7\n",
            "4   8   9\n",
            "                                                  c3\n",
            "0  0    0.0\n",
            "1    4.0\n",
            "2    8.0\n",
            "3    NaN\n",
            "4    NaN\n",
            "d...\n"
          ]
        }
      ]
    },
    {
      "cell_type": "code",
      "source": [
        "from tables.table import Column\n",
        "import pandas as pd\n",
        "print('Exesice 4')\n",
        "c1 = pd.Series([0, 5, 4, 8, 8])\n",
        "c2 = pd.Series([1, 3,  5, 7, 9])\n",
        "c3 = c1 + c2\n",
        "df = pd.DataFrame(data=c3)\n",
        "print(df)"
      ],
      "metadata": {
        "id": "bqsD12zcC5Ev",
        "colab": {
          "base_uri": "https://localhost:8080/"
        },
        "outputId": "2b081993-6090-4f3d-e642-62daf56dedee"
      },
      "execution_count": null,
      "outputs": [
        {
          "output_type": "stream",
          "name": "stdout",
          "text": [
            "Exesice 4\n",
            "    0\n",
            "0   1\n",
            "1   8\n",
            "2   9\n",
            "3  15\n",
            "4  17\n"
          ]
        }
      ]
    },
    {
      "cell_type": "code",
      "source": [
        "import pandas as pd\n",
        "print('exesice 4')\n",
        "c1 = [1, 2, 3, 4, 5]\n",
        "c2 = [5, 4, 3, 2, 1]\n",
        "df1 = pd.DataFrame(data=c1)\n",
        "df2 = pd.DataFrame(data=c2)\n",
        "d3 = df2 + df1\n",
        "df3 = pd.DataFrame(data=d3)\n",
        "df3_1 = pd.DataFrame(list(zip(c1,c2,d3)))\n",
        "print(df3_1)"
      ],
      "metadata": {
        "colab": {
          "base_uri": "https://localhost:8080/"
        },
        "id": "o688_q2XeKcc",
        "outputId": "a59f3dc0-c621-48a8-d19b-fff4f2534f4d"
      },
      "execution_count": null,
      "outputs": [
        {
          "output_type": "stream",
          "name": "stdout",
          "text": [
            "exesice 4\n",
            "   0  1  2\n",
            "0  1  5  0\n"
          ]
        }
      ]
    },
    {
      "cell_type": "code",
      "source": [
        "import pandas as pd\n",
        "c1 = ([1, 2, 3, 4, 5])\n",
        "c2 = ([5, 4, 3, 2, 1])\n",
        "c3 = [c1] + [c2]\n",
        "print(c3)\n",
        "df = pd.DataFrame(list(zip(c1, c2, c3)))\n",
        "print(df)"
      ],
      "metadata": {
        "colab": {
          "base_uri": "https://localhost:8080/"
        },
        "id": "lBw-cKxgKQdo",
        "outputId": "ea93e2f7-fb84-4338-e77a-cb5c8892962a"
      },
      "execution_count": null,
      "outputs": [
        {
          "output_type": "stream",
          "name": "stdout",
          "text": [
            "[[1, 2, 3, 4, 5], [5, 4, 3, 2, 1]]\n",
            "   0  1                2\n",
            "0  1  5  [1, 2, 3, 4, 5]\n",
            "1  2  4  [5, 4, 3, 2, 1]\n"
          ]
        }
      ]
    },
    {
      "cell_type": "code",
      "source": [
        "import pandas as pd\n",
        "import requests \n",
        "\n",
        "\n",
        "url_1 = \"https://raw.githubusercontent.com/NonokaShimada/class_report.2/main/valoriorari_puntasalute_1983.csv\"\n",
        "url_2 = \"https://raw.githubusercontent.com/NonokaShimada/class_report.2/main/valoriorari_puntasalute_1984.csv\"\n",
        "url_3 = \"https://raw.githubusercontent.com/NonokaShimada/class_report.2/main/valoriorari_puntasalute_1985.csv\" \n",
        "url_4 = \"https://raw.githubusercontent.com/NonokaShimada/class_report.2/main/valoriorari_puntasalute_1986.csv\"\n",
        "url_5 = \"https://raw.githubusercontent.com/NonokaShimada/class_report.2/main/valoriorari_puntasalute_1987.csv\"\n",
        "url_6 = \"https://raw.githubusercontent.com/NonokaShimada/class_report.2/main/valoriorari_puntasalute_1988.csv\"\n",
        "url_7 = \"https://raw.githubusercontent.com/NonokaShimada/class_report.2/main/valoriorari_puntasalute_1989.csv\" \n",
        "url_8 = \"https://raw.githubusercontent.com/NonokaShimada/class_report.2/main/valoriorari_puntasalute_1990.csv\"\n",
        "url_9 = \"https://raw.githubusercontent.com/NonokaShimada/class_report.2/main/valoriorari_puntasalute_1991.csv\"\n",
        "url_10 = \"https://raw.githubusercontent.com/NonokaShimada/class_report.2/main/valoriorari_puntasalute_1992.csv\"\n",
        "url_11 = \"https://raw.githubusercontent.com/NonokaShimada/class_report.2/main/valoriorari_puntasalute_1993.csv\"\n",
        "url_12 = \"https://raw.githubusercontent.com/NonokaShimada/class_report.2/main/valoriorari_puntasalute_1994.csv\"\n",
        "url_13 = \"https://raw.githubusercontent.com/NonokaShimada/class_report.2/main/valoriorari_puntasalute_1995.csv\"\n",
        "url_14 = \"https://raw.githubusercontent.com/NonokaShimada/class_report.2/main/valoriorari_puntasalute_1996.csv\"\n",
        "url_15 = \"https://raw.githubusercontent.com/NonokaShimada/class_report.2/main/valoriorari_puntasalute_1997.csv\"\n",
        "url_16 = \"https://raw.githubusercontent.com/NonokaShimada/class_report.2/main/valoriorari_puntasalute_1998.csv\"\n",
        "url_17 = \"https://raw.githubusercontent.com/NonokaShimada/class_report.2/main/valoriorari_puntasalute_1999.csv\"\n",
        "url_18 = \"https://raw.githubusercontent.com/NonokaShimada/class_report.2/main/valoriorari_puntasalute_2000.csv\"\n",
        "url_19 = \"https://raw.githubusercontent.com/NonokaShimada/class_report.2/main/valoriorari_puntasalute_2001.csv\"\n",
        "url_20 = \"https://raw.githubusercontent.com/NonokaShimada/class_report.2/main/valoriorari_puntasalute_2002.csv\"\n",
        "url_21 = \"https://raw.githubusercontent.com/NonokaShimada/class_report.2/main/valoriorari_puntasalute_2003.csv\"\n",
        "url_22 = \"https://raw.githubusercontent.com/NonokaShimada/class_report.2/main/valoriorari_puntasalute_2004.csv\"\n",
        "url_23 = \"https://raw.githubusercontent.com/NonokaShimada/class_report.2/main/valoriorari_puntasalute_2005.csv\"\n",
        "url_24 = \"https://raw.githubusercontent.com/NonokaShimada/class_report.2/main/valoriorari_puntasalute_2006.csv\"\n",
        "url_25 = \"https://raw.githubusercontent.com/NonokaShimada/class_report.2/main/valoriorari_puntasalute_2007.csv\"\n",
        "url_26 = \"https://raw.githubusercontent.com/NonokaShimada/class_report.2/main/valoriorari_puntasalute_2008.csv\"\n",
        "url_27 = \"https://raw.githubusercontent.com/NonokaShimada/class_report.2/main/valoriorari_puntasalute_2009.csv\"\n",
        "url_28 = \"https://raw.githubusercontent.com/NonokaShimada/class_report.2/main/valoriorari_puntasalute_2010.csv\"\n",
        "url_29 = \"https://raw.githubusercontent.com/NonokaShimada/class_report.2/main/valoriorari_puntasalute_2011.csv\"\n",
        "url_30 = \"https://raw.githubusercontent.com/NonokaShimada/class_report.2/main/valoriorari_puntasalute_2012.csv\"\n",
        "url_31 = \"https://raw.githubusercontent.com/NonokaShimada/class_report.2/main/valoriorari_puntasalute_2013.csv\"\n",
        "url_32 = \"https://raw.githubusercontent.com/NonokaShimada/class_report.2/main/valoriorari_puntasalute_2014.csv\"\n",
        "url_33 = \"https://raw.githubusercontent.com/NonokaShimada/class_report.2/main/valoriorari_puntasalute_2015.csv\"\n",
        "url_34 = \"https://raw.githubusercontent.com/NonokaShimada/class_report.2/main/valoriorari_puntasalute_2016.csv\"\n",
        "url_35 = \"https://raw.githubusercontent.com/NonokaShimada/class_report.2/main/valoriorari_puntasalute_2017.csv\"\n",
        "url_36 = \"https://raw.githubusercontent.com/NonokaShimada/class_report.2/main/valoriorari_puntasalute_2018.csv\"\n",
        "url_37 = \"https://raw.githubusercontent.com/NonokaShimada/class_report.2/main/valoriorari_puntasalute_2019.csv\"\n",
        "url_37 = \"https://raw.githubusercontent.com/NonokaShimada/class_report.2/main/valoriorari_puntasalute_2020.csv\"\n",
        "url_38 = \"https://raw.githubusercontent.com/NonokaShimada/class_report.2/main/valoriorari_puntasalute_2021.csv\"\n",
        "\n",
        "df1 = pd.read_csv(url_1)\n",
        "df2 = pd.read_csv(url_2)\n",
        "df3 = pd.read_csv(url_3)\n",
        "df3 = pd.read_csv(url_3)\n",
        "df4 = pd.read_csv(url_4)\n",
        "df5 = pd.read_csv(url_5)\n",
        "df6 = pd.read_csv(url_6)\n",
        "df7 = pd.read_csv(url_7)\n",
        "df8 = pd.read_csv(url_8)\n",
        "df9 = pd.read_csv(url_9)\n",
        "df10 = pd.read_csv(url_10)\n",
        "df11 = pd.read_csv(url_11)\n",
        "df12 = pd.read_csv(url_12)\n",
        "df13 = pd.read_csv(url_13)\n",
        "df14 = pd.read_csv(url_14)\n",
        "df15 = pd.read_csv(url_15)\n",
        "df16 = pd.read_csv(url_16)\n",
        "df17 = pd.read_csv(url_17)\n",
        "df18 = pd.read_csv(url_18)\n",
        "df19 = pd.read_csv(url_19)\n",
        "df20 = pd.read_csv(url_20)\n",
        "df21 = pd.read_csv(url_21)\n",
        "df22 = pd.read_csv(url_22)\n",
        "df23 = pd.read_csv(url_23)\n",
        "df24 = pd.read_csv(url_24)\n",
        "df25 = pd.read_csv(url_25)\n",
        "df26 = pd.read_csv(url_26)\n",
        "df27 = pd.read_csv(url_27)\n",
        "df28 = pd.read_csv(url_28)\n",
        "df29 = pd.read_csv(url_29)\n",
        "df30 = pd.read_csv(url_30)\n",
        "df31 = pd.read_csv(url_31)\n",
        "df32 = pd.read_csv(url_32)\n",
        "df33 = pd.read_csv(url_33)\n",
        "df34 = pd.read_csv(url_34)\n",
        "df35 = pd.read_csv(url_35)\n",
        "df36 = pd.read_csv(url_36)\n",
        "df37 = pd.read_csv(url_37)\n",
        "df38 = pd.read_csv(url_38)\n",
        "\n",
        "for df_a = of.DataFrame\n",
        "print(df_a)\n",
        "df.index =  ['month','day','hour']\n",
        "df.colums = ['1983','1990','1991','1992',]\n",
        "print(type(\"df_a\"))\n",
        "\n",
        "\n",
        "\n",
        "\n",
        "\n",
        "\n"
      ],
      "metadata": {
        "id": "TWh2H98UgB1l",
        "colab": {
          "base_uri": "https://localhost:8080/",
          "height": 137
        },
        "outputId": "db02c580-0b63-4f04-8b34-ba7e8feb7750"
      },
      "execution_count": null,
      "outputs": [
        {
          "output_type": "error",
          "ename": "SyntaxError",
          "evalue": "ignored",
          "traceback": [
            "\u001b[0;36m  File \u001b[0;32m\"<ipython-input-8-c860c34e9fb8>\"\u001b[0;36m, line \u001b[0;32m85\u001b[0m\n\u001b[0;31m    for df_a = of.DataFrame\u001b[0m\n\u001b[0m             ^\u001b[0m\n\u001b[0;31mSyntaxError\u001b[0m\u001b[0;31m:\u001b[0m invalid syntax\n"
          ]
        }
      ]
    },
    {
      "cell_type": "code",
      "source": [
        "import pandas as pd \n",
        "from pathlib import Path\n",
        "p = Path('./csv_file')\n",
        "file_name = '**/*.csv'\n",
        "csv_files = p.glob(file_name)\n",
        "def main():\n",
        "  for file in csv_files:\n",
        "    df1 = pd.read_csv(file, name=column_name)\n",
        "    print(file)\n",
        "    print(df1)\n",
        "\n"
      ],
      "metadata": {
        "id": "5YFTrsMXNjVJ"
      },
      "execution_count": 2,
      "outputs": []
    },
    {
      "cell_type": "code",
      "source": [
        "from google.colab import drive\n",
        "import os\n",
        "from pathlib import Path\n",
        "drive.mount('/content/drive')\n",
        "%cd /content/drive/My Drive/Data_Management/\n",
        "p = Path('/content/drive')\n",
        "file_name = '**/*.csv'\n",
        "csv_file = p.glob(file_name)\n",
        "column_name = ('date;hour;level')\n",
        "def main():\n",
        "  for file in 'Data_Management':\n",
        "    df1 = pd.read_csv(file)\n",
        "    print(file)\n",
        "    print(df1)\n",
        "\n",
        "  \n",
        "\n",
        "     \n"
      ],
      "metadata": {
        "id": "P290zRBVR7tg",
        "colab": {
          "base_uri": "https://localhost:8080/"
        },
        "outputId": "ba50e12e-cf1b-42dd-cb4f-d65769a0426a"
      },
      "execution_count": 3,
      "outputs": [
        {
          "output_type": "stream",
          "name": "stdout",
          "text": [
            "Mounted at /content/drive\n",
            "/content/drive/My Drive/Data_Management\n"
          ]
        }
      ]
    }
  ]
}